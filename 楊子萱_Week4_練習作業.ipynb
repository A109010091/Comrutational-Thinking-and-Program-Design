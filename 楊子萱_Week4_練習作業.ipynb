{
  "nbformat": 4,
  "nbformat_minor": 0,
  "metadata": {
    "colab": {
      "name": "楊子萱-Week4-練習作業.ipynb",
      "provenance": [],
      "authorship_tag": "ABX9TyPvNmqlyYX8u/MpcqpTnsXy",
      "include_colab_link": true
    },
    "kernelspec": {
      "name": "python3",
      "display_name": "Python 3"
    }
  },
  "cells": [
    {
      "cell_type": "markdown",
      "metadata": {
        "id": "view-in-github",
        "colab_type": "text"
      },
      "source": [
        "<a href=\"https://colab.research.google.com/github/A109010091/Comrutational-Thinking-and-Program-Design/blob/main/%E6%A5%8A%E5%AD%90%E8%90%B1_Week4_%E7%B7%B4%E7%BF%92%E4%BD%9C%E6%A5%AD.ipynb\" target=\"_parent\"><img src=\"https://colab.research.google.com/assets/colab-badge.svg\" alt=\"Open In Colab\"/></a>"
      ]
    },
    {
      "cell_type": "code",
      "metadata": {
        "id": "oReTntNtVyjq"
      },
      "source": [
        ""
      ],
      "execution_count": null,
      "outputs": []
    },
    {
      "cell_type": "markdown",
      "metadata": {
        "id": "Guk99p6CXo_A"
      },
      "source": [
        "#隨堂練習"
      ]
    },
    {
      "cell_type": "markdown",
      "metadata": {
        "id": "xtoYlJLNX4hh"
      },
      "source": [
        "# 課後練習"
      ]
    },
    {
      "cell_type": "markdown",
      "metadata": {
        "id": "NEjML7isWF9y"
      },
      "source": [
        "## 從一則新聞報導，提出你對新聞系(00系)學生為什麼要學「運算思維與程式設計」的見解。(告訴我新聞連結，以及你的觀點即可。)"
      ]
    }
  ]
}