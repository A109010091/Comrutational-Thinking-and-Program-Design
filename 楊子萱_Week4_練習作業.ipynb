{
  "nbformat": 4,
  "nbformat_minor": 0,
  "metadata": {
    "colab": {
      "name": "楊子萱-Week4-練習作業.ipynb",
      "provenance": [],
      "authorship_tag": "ABX9TyOQUZD+f4FYX9TkSyiTuy9B",
      "include_colab_link": true
    },
    "kernelspec": {
      "name": "python3",
      "display_name": "Python 3"
    }
  },
  "cells": [
    {
      "cell_type": "markdown",
      "metadata": {
        "id": "view-in-github",
        "colab_type": "text"
      },
      "source": [
        "<a href=\"https://colab.research.google.com/github/A109010091/Comrutational-Thinking-and-Program-Design/blob/main/%E6%A5%8A%E5%AD%90%E8%90%B1_Week4_%E7%B7%B4%E7%BF%92%E4%BD%9C%E6%A5%AD.ipynb\" target=\"_parent\"><img src=\"https://colab.research.google.com/assets/colab-badge.svg\" alt=\"Open In Colab\"/></a>"
      ]
    },
    {
      "cell_type": "code",
      "metadata": {
        "id": "oReTntNtVyjq"
      },
      "source": [
        ""
      ],
      "execution_count": null,
      "outputs": []
    },
    {
      "cell_type": "markdown",
      "metadata": {
        "id": "Guk99p6CXo_A"
      },
      "source": [
        "#隨堂練習"
      ]
    },
    {
      "cell_type": "markdown",
      "metadata": {
        "id": "xtoYlJLNX4hh"
      },
      "source": [
        "# 課後練習"
      ]
    },
    {
      "cell_type": "markdown",
      "metadata": {
        "id": "NEjML7isWF9y"
      },
      "source": [
        "## 從一則新聞報導，提出你對新聞系(00系)學生為什麼要學「運算思維與程式設計」的見解。(告訴我新聞連結，以及你的觀點即可。) \n",
        "https://tw.news.yahoo.com/6%E6%88%90%E5%A4%A7%E5%AD%B8%E7%94%9F%E4%BF%AE%E7%A8%8B%E5%BC%8F%E8%A8%AD%E8%A8%88%E8%AA%B2-%E9%9D%9E%E8%B3%87%E8%A8%8A%E9%A0%98%E5%9F%9F%E7%AA%81%E7%A0%B440%E8%90%AC%E4%BA%BA-041529205.html\n",
        "\n",
        "\n",
        "\n",
        "從這則新聞可以知道，因為現今人工智慧的崛起，許多大專院校為了培育學生具有基本的運算思維與程式設計的基礎能力，會在課程中安排許多相關課程，以利學生在未來進入職場能夠發揮基本知識，不會無法與他人競爭。在這項課程規劃中，除了程式設計相關科系學生之外，我身為新聞系學生，上這門課也是有益無害。一方面可以在還未出社會時培養一些此課程相關的知識，一方面也能學習到新時代科技進步的產物。\n",
        "\n",
        "\n"
      ]
    }
  ]
}