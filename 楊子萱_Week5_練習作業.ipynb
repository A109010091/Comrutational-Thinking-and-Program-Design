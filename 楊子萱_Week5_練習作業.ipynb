{
  "nbformat": 4,
  "nbformat_minor": 0,
  "metadata": {
    "colab": {
      "name": "楊子萱-Week5-練習作業.ipynb",
      "provenance": [],
      "authorship_tag": "ABX9TyMxFSYLjgQyYMz20fsKGxMV",
      "include_colab_link": true
    },
    "kernelspec": {
      "name": "python3",
      "display_name": "Python 3"
    },
    "language_info": {
      "name": "python"
    }
  },
  "cells": [
    {
      "cell_type": "markdown",
      "metadata": {
        "id": "view-in-github",
        "colab_type": "text"
      },
      "source": [
        "<a href=\"https://colab.research.google.com/github/A109010091/Comrutational-Thinking-and-Program-Design/blob/main/%E6%A5%8A%E5%AD%90%E8%90%B1_Week5_%E7%B7%B4%E7%BF%92%E4%BD%9C%E6%A5%AD.ipynb\" target=\"_parent\"><img src=\"https://colab.research.google.com/assets/colab-badge.svg\" alt=\"Open In Colab\"/></a>"
      ]
    },
    {
      "cell_type": "code",
      "metadata": {
        "colab": {
          "base_uri": "https://localhost:8080/"
        },
        "id": "t0YTIw8KbIAG",
        "outputId": "db6e8042-7ae3-491d-8f0b-df0036719965"
      },
      "source": [
        "print(\"Hello,My name is claire. I was born in 2001.\")\n",
        "\n",
        "name = \"Claire\"\n",
        "age = 2021-2001\n",
        "print(f\"Hi, My name is {name} and I am {age} years old!\")"
      ],
      "execution_count": 3,
      "outputs": [
        {
          "output_type": "stream",
          "text": [
            "Hello,My name is claire. I was born in 2001.\n",
            "Hi, My name is Claire and I am 20 years old!\n"
          ],
          "name": "stdout"
        }
      ]
    },
    {
      "cell_type": "code",
      "metadata": {
        "colab": {
          "base_uri": "https://localhost:8080/"
        },
        "id": "jNIXI12AdKpE",
        "outputId": "5f7833c2-fb06-4d60-b74c-0b63c60293e3"
      },
      "source": [
        "name = input(\"Please, enter your name. \")\n",
        "year = int(input(\"Please, which calendar year were you born? \"))\n",
        "age = 2021-year\n",
        "print(\"Hi, My name is\", name, \"and I am \", age, \"years old!\")"
      ],
      "execution_count": 4,
      "outputs": [
        {
          "output_type": "stream",
          "text": [
            "Please, enter your name. Claire\n",
            "Please, which calendar year were you born? 2001\n",
            "Hi, My name is Claire and I am  20 years old!\n"
          ],
          "name": "stdout"
        }
      ]
    },
    {
      "cell_type": "code",
      "metadata": {
        "colab": {
          "base_uri": "https://localhost:8080/"
        },
        "id": "mVQEfRKigJme",
        "outputId": "6a35fff1-d75d-4880-dd0c-8863a15a1ee8"
      },
      "source": [
        "print(\"\\\" You are never wrong to do the right thing.\\\"-The Intern\")"
      ],
      "execution_count": 7,
      "outputs": [
        {
          "output_type": "stream",
          "text": [
            "\" You are never wrong to do the right thing.\"-The Intern\n"
          ],
          "name": "stdout"
        }
      ]
    }
  ]
}