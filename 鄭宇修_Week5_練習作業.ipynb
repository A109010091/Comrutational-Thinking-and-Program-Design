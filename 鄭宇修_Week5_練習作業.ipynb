{
  "nbformat": 4,
  "nbformat_minor": 0,
  "metadata": {
    "colab": {
      "name": "鄭宇修-Week5-練習作業.ipynb",
      "provenance": [],
      "authorship_tag": "ABX9TyPPp1NaM+Onmqe+fCiqNkfh",
      "include_colab_link": true
    },
    "kernelspec": {
      "name": "python3",
      "display_name": "Python 3"
    },
    "language_info": {
      "name": "python"
    }
  },
  "cells": [
    {
      "cell_type": "markdown",
      "metadata": {
        "id": "view-in-github",
        "colab_type": "text"
      },
      "source": [
        "<a href=\"https://colab.research.google.com/github/A109010091/Comrutational-Thinking-and-Program-Design/blob/main/%E9%84%AD%E5%AE%87%E4%BF%AE_Week5_%E7%B7%B4%E7%BF%92%E4%BD%9C%E6%A5%AD.ipynb\" target=\"_parent\"><img src=\"https://colab.research.google.com/assets/colab-badge.svg\" alt=\"Open In Colab\"/></a>"
      ]
    },
    {
      "cell_type": "code",
      "metadata": {
        "colab": {
          "base_uri": "https://localhost:8080/"
        },
        "id": "384yvgyei7Tp",
        "outputId": "79989f35-54ba-4db0-dbd6-ffa63dd40928"
      },
      "source": [
        "print(\"Hello, My name is Daniel. I was born in 2002.\")\n",
        "name = \"Daniel\"\n",
        "age = 2021-2002\n",
        "print(f\" Hi, My name is {name} and I am {age} years old!\")"
      ],
      "execution_count": 1,
      "outputs": [
        {
          "output_type": "stream",
          "text": [
            "Hello, My name is Daniel. I was born in 2002.\n",
            " Hi, My name is Daniel and I am 19 years old!\n"
          ],
          "name": "stdout"
        }
      ]
    },
    {
      "cell_type": "code",
      "metadata": {
        "colab": {
          "base_uri": "https://localhost:8080/"
        },
        "id": "-SCkyhiInBms",
        "outputId": "74d0f2c1-9ad4-4a36-84fa-1ee67f4cf32e"
      },
      "source": [
        "name = input(\"Please, enter your name. \")\n",
        "year = int(input(\"Please, which calendar year were you born? \"))\n",
        "age = 2021-2002\n",
        "print(\"Hi, My name is\", name, \"and I am \", age, \"years old!\")"
      ],
      "execution_count": 2,
      "outputs": [
        {
          "output_type": "stream",
          "text": [
            "Please, enter your name. Daniel\n",
            "Please, which calendar year were you born? 2002\n",
            "Hi, My name is Daniel and I am  19 years old!\n"
          ],
          "name": "stdout"
        }
      ]
    },
    {
      "cell_type": "code",
      "metadata": {
        "colab": {
          "base_uri": "https://localhost:8080/"
        },
        "id": "RtUvBUrdn0be",
        "outputId": "22b6f5f8-318e-4376-e8de-39d9d7a59531"
      },
      "source": [
        "print(\"\\\" Life's a little bit messy. We all make mistakes. No matter what type of animal you are, change starts with you.\\\" -Zootopia\")"
      ],
      "execution_count": 4,
      "outputs": [
        {
          "output_type": "stream",
          "text": [
            "\" Life's a little bit messy. We all make mistakes. No matter what type of animal you are, change starts with you.\" -Zootopia\n"
          ],
          "name": "stdout"
        }
      ]
    }
  ]
}